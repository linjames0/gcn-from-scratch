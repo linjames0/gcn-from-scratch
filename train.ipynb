{
 "cells": [
  {
   "cell_type": "code",
   "execution_count": 19,
   "metadata": {},
   "outputs": [],
   "source": [
    "import numpy as np\n",
    "import matplotlib.pyplot as plt\n",
    "import torch\n",
    "import torch.nn.functional as F\n",
    "import torch.optim as optim\n",
    "from torch_geometric.datasets import Planetoid\n",
    "from torch_geometric.utils import to_dense_adj\n",
    "from torch_geometric.transforms import NormalizeFeatures\n",
    "from nn import GCNLayer, GCN"
   ]
  },
  {
   "cell_type": "code",
   "execution_count": 20,
   "metadata": {},
   "outputs": [],
   "source": [
    "# create the adjaceny matrix from the edge index\n",
    "def create_adj(edge_index, num_nodes):\n",
    "    # edge_index = torch.tensor(edge_index, dtype=torch.long).t().contiguous()\n",
    "    adj = np.zeros((num_nodes, num_nodes), dtype=int)\n",
    "    for i, j in edge_index:\n",
    "        adj[i-1, j-1] = 1\n",
    "        adj[j-1, i-1] = 1\n",
    "    \n",
    "    adj = torch.tensor(adj, dtype=torch.float) + torch.eye(num_nodes)\n",
    "    return adj\n",
    "\n",
    "data = np.loadtxt(\"ucidata-zachary/out.ucidata-zachary\", dtype=int, skiprows=2)\n",
    "\n",
    "num_nodes = 34\n",
    "adj = create_adj(data, num_nodes)\n",
    "features = torch.eye(num_nodes)\n",
    "labels = [0, 1, 2, 3, 4, 5, 6, 7, 8, 10, 11, 12, 13, 16, 17, 19, 21]\n",
    "labels = [0 if i in labels else 1 for i in range(num_nodes)]\n",
    "labels = torch.tensor(labels, dtype=torch.long)\n"
   ]
  },
  {
   "cell_type": "code",
   "execution_count": 21,
   "metadata": {},
   "outputs": [],
   "source": [
    "# model and optimizer\n",
    "model = GCN(nin=features.shape[1], nout=16, nhid=16, nclass=2)\n",
    "optimizer = optim.Adam(model.parameters(), lr=0.01)"
   ]
  },
  {
   "cell_type": "code",
   "execution_count": 11,
   "metadata": {},
   "outputs": [
    {
     "data": {
      "text/plain": [
       "torch.Size([4])"
      ]
     },
     "execution_count": 11,
     "metadata": {},
     "output_type": "execute_result"
    }
   ],
   "source": [
    "test = torch.tensor([[0, 1], [2, 3]], dtype=torch.long)\n",
    "test = torch.flatten(test)\n",
    "\n",
    "test.shape"
   ]
  },
  {
   "cell_type": "code",
   "execution_count": 18,
   "metadata": {},
   "outputs": [
    {
     "name": "stdout",
     "output_type": "stream",
     "text": [
      "Epoch: 0, Loss: 0.0003149326948914677\n",
      "Epoch: 1, Loss: 0.00031200028024613857\n",
      "Epoch: 2, Loss: 0.00030912712099961936\n",
      "Epoch: 3, Loss: 0.00030627468368038535\n",
      "Epoch: 4, Loss: 0.0003034606052096933\n",
      "Epoch: 5, Loss: 0.0003006952756550163\n",
      "Epoch: 6, Loss: 0.00029797526076436043\n",
      "Epoch: 7, Loss: 0.0002952970680780709\n",
      "Epoch: 8, Loss: 0.0002926501911133528\n",
      "Epoch: 9, Loss: 0.0002900415565818548\n",
      "Epoch: 10, Loss: 0.00028747128089889884\n",
      "Epoch: 11, Loss: 0.0002849323209375143\n",
      "Epoch: 12, Loss: 0.0002824422554112971\n",
      "Epoch: 13, Loss: 0.00027996947756037116\n",
      "Epoch: 14, Loss: 0.00027753852191381156\n",
      "Epoch: 15, Loss: 0.0002751459542196244\n",
      "Epoch: 16, Loss: 0.00027277422486804426\n",
      "Epoch: 17, Loss: 0.00027045136084780097\n",
      "Epoch: 18, Loss: 0.0002681528276298195\n",
      "Epoch: 19, Loss: 0.0002658716693986207\n",
      "Epoch: 20, Loss: 0.00026362185599282384\n",
      "Epoch: 21, Loss: 0.00026140696718357503\n",
      "Epoch: 22, Loss: 0.0002592304372228682\n",
      "Epoch: 23, Loss: 0.00025707477470859885\n",
      "Epoch: 24, Loss: 0.0002549505152273923\n",
      "Epoch: 25, Loss: 0.00025285762967541814\n",
      "Epoch: 26, Loss: 0.00025078566977754235\n",
      "Epoch: 27, Loss: 0.0002487415913492441\n",
      "Epoch: 28, Loss: 0.0002467183512635529\n",
      "Epoch: 29, Loss: 0.00024473003577440977\n",
      "Epoch: 30, Loss: 0.0002427696599625051\n",
      "Epoch: 31, Loss: 0.0002408231666777283\n",
      "Epoch: 32, Loss: 0.00023890112061053514\n",
      "Epoch: 33, Loss: 0.00023701392638031393\n",
      "Epoch: 34, Loss: 0.0002351441653445363\n",
      "Epoch: 35, Loss: 0.00023330583644565195\n",
      "Epoch: 36, Loss: 0.00023148494074121118\n",
      "Epoch: 37, Loss: 0.0002296849270351231\n",
      "Epoch: 38, Loss: 0.00022790585353504866\n",
      "Epoch: 39, Loss: 0.0002261406771140173\n",
      "Epoch: 40, Loss: 0.0002244069764856249\n",
      "Epoch: 41, Loss: 0.00022269067994784564\n",
      "Epoch: 42, Loss: 0.00022099530906416476\n",
      "Epoch: 43, Loss: 0.00021932439994998276\n",
      "Epoch: 44, Loss: 0.000217681415961124\n",
      "Epoch: 45, Loss: 0.00021604886569548398\n",
      "Epoch: 46, Loss: 0.0002144372701877728\n",
      "Epoch: 47, Loss: 0.00021284309332259\n",
      "Epoch: 48, Loss: 0.00021126988576725125\n",
      "Epoch: 49, Loss: 0.00020971409685444087\n",
      "Epoch: 50, Loss: 0.00020816524920519441\n",
      "Epoch: 51, Loss: 0.00020665136980824172\n",
      "Epoch: 52, Loss: 0.00020514792413450778\n",
      "Epoch: 53, Loss: 0.0002036619553109631\n",
      "Epoch: 54, Loss: 0.00020219340512994677\n",
      "Epoch: 55, Loss: 0.0002007353032240644\n",
      "Epoch: 56, Loss: 0.00019930519920308143\n",
      "Epoch: 57, Loss: 0.0001978855289053172\n",
      "Epoch: 58, Loss: 0.0001964868133654818\n",
      "Epoch: 59, Loss: 0.0001951020531123504\n",
      "Epoch: 60, Loss: 0.0001937277556862682\n",
      "Epoch: 61, Loss: 0.00019236389198340476\n",
      "Epoch: 62, Loss: 0.00019102102669421583\n",
      "Epoch: 63, Loss: 0.00018968510266859084\n",
      "Epoch: 64, Loss: 0.00018838414689525962\n",
      "Epoch: 65, Loss: 0.00018708665447775275\n",
      "Epoch: 66, Loss: 0.0001857961469795555\n",
      "Epoch: 67, Loss: 0.0001845335791585967\n",
      "Epoch: 68, Loss: 0.00018326748977415264\n",
      "Epoch: 69, Loss: 0.00018202236969955266\n",
      "Epoch: 70, Loss: 0.00018079471192322671\n",
      "Epoch: 71, Loss: 0.00017958102398552\n",
      "Epoch: 72, Loss: 0.00017837430641520768\n",
      "Epoch: 73, Loss: 0.00017718157323542982\n",
      "Epoch: 74, Loss: 0.000176006302353926\n",
      "Epoch: 75, Loss: 0.00017483450938016176\n",
      "Epoch: 76, Loss: 0.00017367667169310153\n",
      "Epoch: 77, Loss: 0.00017253281839657575\n",
      "Epoch: 78, Loss: 0.00017140294949058443\n",
      "Epoch: 79, Loss: 0.00017028705042321235\n",
      "Epoch: 80, Loss: 0.00016917812172323465\n",
      "Epoch: 81, Loss: 0.0001680901914369315\n",
      "Epoch: 82, Loss: 0.00016700221749488264\n",
      "Epoch: 83, Loss: 0.0001659317349549383\n",
      "Epoch: 84, Loss: 0.00016485771629959345\n",
      "Epoch: 85, Loss: 0.0001638081594137475\n",
      "Epoch: 86, Loss: 0.00016276210953947157\n",
      "Epoch: 87, Loss: 0.00016173355106730014\n",
      "Epoch: 88, Loss: 0.0001607119629625231\n",
      "Epoch: 89, Loss: 0.0001597008522367105\n",
      "Epoch: 90, Loss: 0.00015870372590143234\n",
      "Epoch: 91, Loss: 0.0001577135844854638\n",
      "Epoch: 92, Loss: 0.00015673392044845968\n",
      "Epoch: 93, Loss: 0.00015576474834233522\n",
      "Epoch: 94, Loss: 0.00015479553258046508\n",
      "Epoch: 95, Loss: 0.00015384734433609992\n",
      "Epoch: 96, Loss: 0.00015290259034372866\n",
      "Epoch: 97, Loss: 0.0001519648649264127\n",
      "Epoch: 98, Loss: 0.00015104109479580075\n",
      "Epoch: 99, Loss: 0.00015012084622867405\n"
     ]
    }
   ],
   "source": [
    "# train the model\n",
    "model.train()\n",
    "for epoch in range(100):\n",
    "    optimizer.zero_grad()\n",
    "    output = model(features, adj)           # n x 2\n",
    "    loss = F.cross_entropy(output, labels)  # for each node, cross entropy loss compares the probability of the labels to the true label\n",
    "    loss.backward()\n",
    "    optimizer.step()\n",
    "\n",
    "    print(f\"Epoch: {epoch}, Loss: {loss.item()}\")\n",
    "\n"
   ]
  },
  {
   "cell_type": "code",
   "execution_count": 23,
   "metadata": {},
   "outputs": [
    {
     "data": {
      "image/png": "[encoded data removed]",
      "text/plain": [
       "<Figure size 640x480 with 1 Axes>"
      ]
     },
     "metadata": {},
     "output_type": "display_data"
    }
   ],
   "source": [
    "# plot the outputs on a 2D plane\n",
    "plt.scatter(output[:, 0].detach().numpy(), output[:, 1].detach().numpy())\n",
    "\n",
    "# if the ith node is labeled 0, color it red, else blue\n",
    "for i in range(num_nodes):\n",
    "    if labels[i] == 0:\n",
    "        plt.scatter(output[i, 0].detach().numpy(), output[i, 1].detach().numpy(), color='red', s=150)\n",
    "    else:\n",
    "        plt.scatter(output[i, 0].detach().numpy(), output[i, 1].detach().numpy(), color='blue', s=150)\n",
    "\n",
    "# label the nodes, centered\n",
    "for i in range(num_nodes):\n",
    "    plt.text(output[i, 0].detach().numpy(), output[i, 1].detach().numpy(), str(i), ha='center', va='center')\n",
    "\n",
    "plt.show()"
   ]
  }
 ],
 "metadata": {
  "kernelspec": {
   "display_name": "venv",
   "language": "python",
   "name": "python3"
  },
  "language_info": {
   "codemirror_mode": {
    "name": "ipython",
    "version": 3
   },
   "file_extension": ".py",
   "mimetype": "text/x-python",
   "name": "python",
   "nbconvert_exporter": "python",
   "pygments_lexer": "ipython3",
   "version": "3.11.5"
  }
 },
 "nbformat": 4,
 "nbformat_minor": 2
}
